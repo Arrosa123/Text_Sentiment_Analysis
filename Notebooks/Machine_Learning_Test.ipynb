{
 "cells": [
  {
   "cell_type": "code",
   "execution_count": null,
   "id": "dfa56d40",
   "metadata": {},
   "outputs": [],
   "source": [
    "import sys\n",
    "\n",
    "import h2o\n",
    "import pandas as pd\n",
    "import numpy as np\n",
    "from scipy.stats import pearsonr #correlation\n",
    "from sklearn.feature_extraction.text import TfidfVectorizer\n",
    "#import H2OGBMClassifier as hgb\n",
    "from sklearn.metrics import roc_auc_score\n",
    "import sys\n",
    "from collections import defaultdict\n",
    "import operator\n",
    "#import sys\n",
    "\n",
    "#reload(sys)  # Reload does the trick!\n",
    "#sys.setdefaultencoding('utf-8')\n",
    "\n",
    "#Dataset provided \n",
    "#file = './sentiment_m140_.csv'\n",
    "#twitter_df = pd.read_csv(file)\n",
    "#twitter_df = twitter_df.rename(columns={\"target\": \"polarity\", \"ids\": \"id\", \"flag\" : \"query\"})\n",
    "#twitter_df[\"new_date\"] = twitter_df[\"date\"]\n",
    "\n",
    "#Dataset Created\n",
    "file = '../static/resources/sentiment_analysis_10k.csv' \n",
    "twitter_df = pd.read_csv(file,encoding = \"ISO-8859-1\")\n",
    "\n",
    "\n",
    "print (twitter_df.shape)\n",
    "#Update the target to 0 or 1 -- came in as 0 or 4 \n",
    "twitter_df.loc[twitter_df[\"polarity\"] == 4,\"polarity\"] = 1\n",
    "print (\" average target is %f \"  % np.mean(twitter_df[\"polarity\"]))\n"
   ]
  },
  {
   "cell_type": "code",
   "execution_count": null,
   "id": "fa4e087f",
   "metadata": {},
   "outputs": [],
   "source": [
    "# Split up positive and negative tweets into two dataframes\n",
    "positive_tweets_df = twitter_df.loc[twitter_df[\"polarity\"] ==1]\n",
    "negative_tweets_df = twitter_df.loc[twitter_df[\"polarity\"] ==0]\n",
    "\n",
    "train_pos = positive_tweets_df[:int(len(positive_tweets_df)*0.8)]\n",
    "test_pos = positive_tweets_df[int(len(positive_tweets_df)*0.8):]\n",
    "train_neg = negative_tweets_df[:int(len(positive_tweets_df)*0.8)]\n",
    "test_neg = negative_tweets_df[int(len(positive_tweets_df)*0.8):]\n",
    "\n",
    "# combine positive and negative labels\n",
    "train_X = pd.concat([train_pos ,train_neg]) \n",
    "test_X = pd.concat([test_pos ,test_neg])"
   ]
  },
  {
   "cell_type": "code",
   "execution_count": null,
   "id": "2d72b284",
   "metadata": {},
   "outputs": [],
   "source": [
    "# create our target arrays\n",
    "train_y = train_X[\"polarity\"]\n",
    "test_y = test_X[\"polarity\"]"
   ]
  },
  {
   "cell_type": "code",
   "execution_count": null,
   "id": "f2b3ae27",
   "metadata": {},
   "outputs": [],
   "source": [
    "# Remove the columns we're not using as features\n",
    "train_X.drop([\"polarity\"],inplace=True, axis=1)\n",
    "train_X.drop([\"id\"],inplace=True, axis=1)\n",
    "train_X.drop([\"date\"],inplace=True, axis=1)\n",
    "train_X.drop([\"query\"],inplace=True, axis=1)\n",
    "train_X.drop([\"user\"],inplace=True, axis=1)\n",
    "train_X.drop([\"new_date\"],inplace=True, axis=1)\n",
    "\n",
    "test_X.drop([\"polarity\"],inplace=True, axis=1)\n",
    "test_X.drop([\"id\"],inplace=True, axis=1)\n",
    "test_X.drop([\"date\"],inplace=True, axis=1)\n",
    "test_X.drop([\"query\"],inplace=True, axis=1)\n",
    "test_X.drop([\"user\"],inplace=True, axis=1)\n",
    "test_X.drop([\"new_date\"],inplace=True, axis=1)"
   ]
  },
  {
   "cell_type": "code",
   "execution_count": null,
   "id": "bb4685da",
   "metadata": {},
   "outputs": [],
   "source": [
    "#tf-idf model\n",
    "tfv=TfidfVectorizer(min_df=0, \n",
    "                    max_features=9000, \n",
    "                    strip_accents='unicode',\n",
    "                    lowercase =True,\n",
    "                    analyzer='word', \n",
    "                    token_pattern=r'\\w{3,}',\n",
    "                    ngram_range=(1,1),\n",
    "                    use_idf=True,\n",
    "                    smooth_idf=True,\n",
    "                    sublinear_tf=True,\n",
    "                    stop_words = \"english\")\n",
    "#h2o gbm model\n",
    "#model=hgb.H2OGBMClassifier (ntrees=100,\n",
    "#                            learn_rate=0.1,\n",
    "#                            distribution=\"bernoulli\",\n",
    "#                            col_sample_rate=1.0,\n",
    "#                            col_sample_rate_per_tree =0.5,\n",
    "#                            nthread=15,\n",
    "#                            sample_rate=0.9,\n",
    "#                            stopping_metric=\"logloss\",\n",
    "#                            nbins=255,\n",
    "#                            min_rows=1,\n",
    "#                            ram=\"20G\",\n",
    "#                            max_depth=4,\n",
    "#                            seed=1)\n",
    "\n",
    "#apply tf idf\n",
    "train_X_data=tfv.fit_transform(train_X[\"text\"].to_numpy())\n",
    "train_X_data=train_X_data.toarray()\n",
    "print (train_X_data.shape) "
   ]
  },
  {
   "cell_type": "code",
   "execution_count": null,
   "id": "1f2186ad",
   "metadata": {},
   "outputs": [],
   "source": [
    "test_X_data = tfv.fit_transform(test_X[\"text\"].to_numpy())\n",
    "test_X_data = test_X_data.toarray()\n",
    "print(test_X_data.shape)"
   ]
  },
  {
   "cell_type": "code",
   "execution_count": null,
   "id": "12daae8d",
   "metadata": {},
   "outputs": [],
   "source": [
    "#fit model (H2OGBMClassifier)\n",
    "#model.fit(data,np.array(train_y)) # feed target"
   ]
  },
  {
   "cell_type": "code",
   "execution_count": null,
   "id": "1260f901",
   "metadata": {},
   "outputs": [],
   "source": [
    "#make predictions)probabilities) on tweets\n",
    "#preds=model.predict_proba(test_data)[:,1]"
   ]
  },
  {
   "cell_type": "code",
   "execution_count": null,
   "id": "6c1e4101",
   "metadata": {},
   "outputs": [],
   "source": [
    "#print (\"training auc is %f\" %roc_auc_score(test_y,preds) )"
   ]
  },
  {
   "cell_type": "code",
   "execution_count": null,
   "id": "f02c8686",
   "metadata": {},
   "outputs": [],
   "source": [
    "from sklearn.ensemble import GradientBoostingClassifier\n",
    "\n",
    "# Create a classifier object\n",
    "learning_rates = [0.1]\n",
    "for learning_rate in learning_rates:\n",
    "    classifier = GradientBoostingClassifier(n_estimators=100,\n",
    "                                            learning_rate=learning_rate,\n",
    "                                            max_features=20,\n",
    "                                            max_depth=4)\n",
    "\n",
    "    # Fit the model\n",
    "    classifier.fit(train_X_data, train_y)\n",
    "    print(\"Learning rate: \", learning_rate)\n",
    "\n",
    "    # Score the model\n",
    "    print(\"Accuracy score (training): {0:.3f}\".format(\n",
    "        classifier.score(\n",
    "            train_X_data,\n",
    "            train_y)))\n",
    "    print(\"Accuracy score (validation): {0:.3f}\".format(\n",
    "        classifier.score(\n",
    "            test_X_data,\n",
    "            test_y)))"
   ]
  },
  {
   "cell_type": "code",
   "execution_count": null,
   "id": "73315d53",
   "metadata": {},
   "outputs": [],
   "source": [
    "from sklearn.naive_bayes import GaussianNB"
   ]
  },
  {
   "cell_type": "code",
   "execution_count": null,
   "id": "9733db39",
   "metadata": {},
   "outputs": [],
   "source": []
  },
  {
   "cell_type": "code",
   "execution_count": null,
   "id": "7e74201c",
   "metadata": {},
   "outputs": [],
   "source": [
    "gnb = GaussianNB()\n",
    "y_pred = gnb.fit(train_X_data, train_y).predict(test_X_data)\n",
    "print(\"Number of mislabeled points out of a total %d points : %d\"\n",
    "      % (test_X_data.shape[0], (test_y != y_pred).sum()))"
   ]
  },
  {
   "cell_type": "code",
   "execution_count": null,
   "id": "7802029c",
   "metadata": {},
   "outputs": [],
   "source": [
    "GBS_preds=classifier.predict_proba(test_X_data)[:,1]"
   ]
  },
  {
   "cell_type": "code",
   "execution_count": null,
   "id": "aba8fef5",
   "metadata": {},
   "outputs": [],
   "source": [
    "# Make Prediction\n",
    "gbs_predictions = classifier.predict(test_X_data)"
   ]
  },
  {
   "cell_type": "code",
   "execution_count": null,
   "id": "71ce3ac6",
   "metadata": {},
   "outputs": [],
   "source": [
    "test_X[\"target\"] = test_y\n",
    "test_X[\"GBS_Prediction\"] = gbs_predictions\n",
    "test_X[\"GBS_preds\"] = GBS_preds"
   ]
  },
  {
   "cell_type": "code",
   "execution_count": null,
   "id": "a6e74b59",
   "metadata": {},
   "outputs": [],
   "source": [
    "test_X.to_csv(\"test_results.csv\")"
   ]
  },
  {
   "cell_type": "code",
   "execution_count": null,
   "id": "f9b8e2df",
   "metadata": {},
   "outputs": [],
   "source": [
    "from sklearn.metrics import confusion_matrix\n",
    "from sklearn.metrics import accuracy_score\n",
    "from sklearn.metrics import classification_report\n",
    "# Calculating the accuracy score\n",
    "acc_score = accuracy_score(test_y, gbs_predictions)\n",
    "print(f\"Accuracy Score : {acc_score}\")"
   ]
  },
  {
   "cell_type": "code",
   "execution_count": null,
   "id": "20bce1b0",
   "metadata": {},
   "outputs": [],
   "source": [
    "# Generate the confusion matrix\n",
    "cm = confusion_matrix(test_y, gbs_predictions)\n",
    "cm_df = pd.DataFrame(\n",
    "    cm, index=[\"Actual 0\", \"Actual 1\"],\n",
    "    columns=[\"Predicted 0\", \"Predicted 1\"]\n",
    ")\n",
    "\n",
    "# Displaying results\n",
    "display(cm_df)"
   ]
  },
  {
   "cell_type": "code",
   "execution_count": null,
   "id": "a8497689",
   "metadata": {},
   "outputs": [],
   "source": [
    "from sklearn.ensemble import RandomForestClassifier\n",
    "rfc = RandomForestClassifier(n_estimators=100, max_depth=4, max_features =50)\n"
   ]
  },
  {
   "cell_type": "code",
   "execution_count": null,
   "id": "17569001",
   "metadata": {},
   "outputs": [],
   "source": [
    "# Fit the model\n",
    "rfc.fit(train_X_data, train_y)"
   ]
  },
  {
   "cell_type": "code",
   "execution_count": null,
   "id": "9ebddb32",
   "metadata": {},
   "outputs": [],
   "source": [
    "RFC_preds=rfc.predict_proba(test_X_data)[:,1]\n",
    "# Make Prediction"
   ]
  },
  {
   "cell_type": "code",
   "execution_count": null,
   "id": "f438306d",
   "metadata": {},
   "outputs": [],
   "source": [
    "# Make Prediction\n",
    "RFC_predictions = rfc.predict(test_X_data)"
   ]
  },
  {
   "cell_type": "code",
   "execution_count": null,
   "id": "cb0d4f67",
   "metadata": {},
   "outputs": [],
   "source": [
    "test_X[\"target\"] = test_y\n",
    "test_X[\"RFC_Prediction\"] = RFC_predictions\n",
    "test_X[\"RFC_preds\"] = RFC_preds"
   ]
  },
  {
   "cell_type": "code",
   "execution_count": null,
   "id": "9ed09245",
   "metadata": {},
   "outputs": [],
   "source": [
    "test_X.to_csv(\"test_results.csv\")"
   ]
  },
  {
   "cell_type": "code",
   "execution_count": null,
   "id": "f6183e86",
   "metadata": {},
   "outputs": [],
   "source": [
    "from sklearn.metrics import confusion_matrix\n",
    "from sklearn.metrics import accuracy_score\n",
    "from sklearn.metrics import classification_report\n",
    "# Calculating the accuracy score\n",
    "acc_score = accuracy_score(test_y, RFC_predictions)\n",
    "print(f\"Accuracy Score : {acc_score}\")"
   ]
  },
  {
   "cell_type": "code",
   "execution_count": null,
   "id": "54290f75",
   "metadata": {},
   "outputs": [],
   "source": [
    "# Generate the confusion matrix\n",
    "cm = confusion_matrix(test_y, RFC_predictions)\n",
    "cm_df = pd.DataFrame(\n",
    "    cm, index=[\"Actual 0\", \"Actual 1\"],\n",
    "    columns=[\"Predicted 0\", \"Predicted 1\"]\n",
    ")\n",
    "\n",
    "# Displaying results\n",
    "display(cm_df)"
   ]
  },
  {
   "cell_type": "code",
   "execution_count": null,
   "id": "e55b2a2c",
   "metadata": {},
   "outputs": [],
   "source": [
    "test_X.to_csv(\"test_results.csv\")"
   ]
  }
 ],
 "metadata": {
  "kernelspec": {
   "display_name": "Python 3 (ipykernel)",
   "language": "python",
   "name": "python3"
  },
  "language_info": {
   "codemirror_mode": {
    "name": "ipython",
    "version": 3
   },
   "file_extension": ".py",
   "mimetype": "text/x-python",
   "name": "python",
   "nbconvert_exporter": "python",
   "pygments_lexer": "ipython3",
   "version": "3.9.7"
  }
 },
 "nbformat": 4,
 "nbformat_minor": 5
}
